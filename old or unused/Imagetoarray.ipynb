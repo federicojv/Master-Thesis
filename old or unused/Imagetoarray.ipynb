{
 "metadata": {
  "language_info": {
   "codemirror_mode": {
    "name": "ipython",
    "version": 3
   },
   "file_extension": ".py",
   "mimetype": "text/x-python",
   "name": "python",
   "nbconvert_exporter": "python",
   "pygments_lexer": "ipython3",
   "version": "3.8.6-final"
  },
  "orig_nbformat": 2,
  "kernelspec": {
   "name": "python386jvsc74a57bd0af66a43beaf4db9335fdc5ef980361922cd3c3b4960ccb3db442c5af8128534b",
   "display_name": "Python 3.8.6 64-bit"
  },
  "metadata": {
   "interpreter": {
    "hash": "af66a43beaf4db9335fdc5ef980361922cd3c3b4960ccb3db442c5af8128534b"
   }
  }
 },
 "nbformat": 4,
 "nbformat_minor": 2,
 "cells": [
  {
   "cell_type": "code",
   "execution_count": 5,
   "metadata": {},
   "outputs": [
    {
     "output_type": "stream",
     "name": "stdout",
     "text": [
      "[  4   4   4   4   4   4   4   4   4   4   4   4   4   4   4   4   4   4\n   4   4   4   3  71 146 169 184 200 209 221 226 233 237 239 244 246 246\n 249 246 244 246 245 245 238 242 239 237 234 230 228 225 220 214 207 201\n 196 190 186 178 170 157 143 123  78  18  10   9   5   4   4   4   4   4\n   4   4   4   4   4   4   4   4   4   4   4   4   4   4   4   4   4   4\n   4   4   4   4   4   4   4   4   4   4   4   4   4   4   4   4   4   4\n   4   4   4   4   4   4   4   4   4   4   4   4   4   4   4   4   4   4\n   4   4]\n(128, 128)\n"
     ]
    }
   ],
   "source": [
    "from PIL import Image\n",
    "import numpy as np\n",
    "\n",
    "img = Image.open('coil-20-proc/obj1__0.png')\n",
    "np_image = np.asarray(img)\n",
    "print(np_image[23])\n",
    "print(np_image.shape)\n"
   ]
  },
  {
   "cell_type": "code",
   "execution_count": 53,
   "metadata": {},
   "outputs": [
    {
     "output_type": "stream",
     "name": "stdout",
     "text": [
      "255\n1.0\n<class 'numpy.float32'>\n"
     ]
    }
   ],
   "source": [
    "import os\n",
    "folder_path = 'coil-20-proc/' \n",
    "dataset = []\n",
    "labels = []\n",
    "\n",
    "for object in os.listdir(folder_path):\n",
    "    if object.endswith('.png'):\n",
    "        image = Image.open(folder_path + object)\n",
    "        image_to_array = np.asarray(image).reshape(16384,)\n",
    "        dataset.append(image_to_array)\n",
    "        labels.append(int(object[3:5].replace('_', '')))\n",
    "dataset = np.array((dataset))\n",
    "labels = np.array((labels))\n",
    "\n",
    "print(dataset.max())\n",
    "\n",
    "dataset = dataset.astype('float32')\n",
    "\n",
    "dataset = dataset / 255.0\n",
    "\n",
    "\n",
    "\n",
    "print(dataset.max())\n",
    "\n",
    "print(type(dataset.max()))"
   ]
  },
  {
   "cell_type": "code",
   "execution_count": 46,
   "metadata": {},
   "outputs": [],
   "source": [
    "from sklearn.model_selection import train_test_split\n",
    "\n",
    "X_train, X_test, y_train, y_test = train_test_split(dataset, labels, test_size=0.3)"
   ]
  },
  {
   "cell_type": "code",
   "execution_count": 58,
   "metadata": {},
   "outputs": [
    {
     "output_type": "execute_result",
     "data": {
      "text/plain": [
       "20"
      ]
     },
     "metadata": {},
     "execution_count": 58
    }
   ],
   "source": [
    "len(np.unique(y_test))\n"
   ]
  },
  {
   "cell_type": "code",
   "execution_count": null,
   "metadata": {},
   "outputs": [],
   "source": []
  }
 ]
}