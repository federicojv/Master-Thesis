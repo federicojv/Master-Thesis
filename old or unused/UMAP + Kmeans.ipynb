{
 "metadata": {
  "language_info": {
   "codemirror_mode": {
    "name": "ipython",
    "version": 3
   },
   "file_extension": ".py",
   "mimetype": "text/x-python",
   "name": "python",
   "nbconvert_exporter": "python",
   "pygments_lexer": "ipython3",
   "version": "3.8.6"
  },
  "orig_nbformat": 2,
  "kernelspec": {
   "name": "python3",
   "display_name": "Python 3.8.6 64-bit"
  },
  "metadata": {
   "interpreter": {
    "hash": "af66a43beaf4db9335fdc5ef980361922cd3c3b4960ccb3db442c5af8128534b"
   }
  },
  "interpreter": {
   "hash": "af66a43beaf4db9335fdc5ef980361922cd3c3b4960ccb3db442c5af8128534b"
  }
 },
 "nbformat": 4,
 "nbformat_minor": 2,
 "cells": [
  {
   "cell_type": "code",
   "execution_count": 49,
   "metadata": {},
   "outputs": [],
   "source": [
    "import numpy as np\n",
    "from sklearn.datasets import load_digits\n",
    "from sklearn.preprocessing import StandardScaler\n",
    "from sklearn.model_selection import train_test_split\n",
    "from sklearn.cluster import KMeans\n",
    "from sklearn import metrics\n",
    "import umap"
   ]
  },
  {
   "cell_type": "code",
   "execution_count": 129,
   "metadata": {},
   "outputs": [
    {
     "output_type": "stream",
     "name": "stdout",
     "text": [
      "(1797, 45)\n(1797, 64)\n"
     ]
    },
    {
     "output_type": "display_data",
     "data": {
      "text/plain": "array([[ 0.        , -0.33501649, -0.04308102,  0.27407152, -0.66447751,\n        -0.84412939, -0.40972392, -0.12502292, -0.05907756, -0.62400926,\n         0.4829745 ,  0.75962245, -0.05842586,  1.12772113,  0.87958306,\n        -0.13043338, -0.04462507,  0.11144272,  0.89588044, -0.86066632,\n        -1.14964846,  0.51547187,  1.90596347, -0.11422184, -0.03337973,\n         0.48648928,  0.46988512, -1.49990136, -1.61406277,  0.07639777,\n         1.54181413, -0.04723238,  0.        ,  0.76465553,  0.05263019,\n        -1.44763006, -1.73666443,  0.04361588,  1.43955804,  0.        ,\n        -0.06134367,  0.8105536 ,  0.63011714, -1.12245711, -1.06623158,\n         0.66096475,  0.81845076, -0.08874162, -0.03543326,  0.74211893,\n         1.15065212, -0.86867056,  0.11012973,  0.53761116, -0.75743581,\n        -0.20978513, -0.02359646, -0.29908135,  0.08671869,  0.20829258,\n        -0.36677122, -1.14664746, -0.5056698 , -0.19600752]])"
     },
     "metadata": {}
    }
   ],
   "source": [
    "\n",
    "np.random.seed(42)\n",
    "digits = load_digits()\n",
    "\n",
    "#scale data\n",
    "dataset = StandardScaler().fit_transform(digits.data)\n",
    "\n",
    "#initialize UMAP object\n",
    "reducer = umap.UMAP(n_components=45)\n",
    "\n",
    "#create embedded dataset\n",
    "embedded_data = reducer.fit_transform(dataset)\n",
    "print(embedded_data.shape)\n",
    "print(dataset.shape)\n",
    "display(dataset[0:1])"
   ]
  },
  {
   "cell_type": "code",
   "execution_count": 85,
   "metadata": {},
   "outputs": [
    {
     "output_type": "stream",
     "name": "stdout",
     "text": [
      "Accuracy: 0.024074074074074074\n"
     ]
    }
   ],
   "source": [
    "X_train, X_test, y_train, y_test = train_test_split(dataset, digits.target, test_size=0.3)\n",
    "kmeans = KMeans(n_clusters=10).fit(X_train)\n",
    "y_pred = kmeans.predict(X_test)\n",
    "print(\"Accuracy:\",metrics.accuracy_score(y_test, y_pred))"
   ]
  },
  {
   "cell_type": "code",
   "execution_count": 91,
   "metadata": {},
   "outputs": [
    {
     "output_type": "stream",
     "name": "stdout",
     "text": [
      "Accuracy of embedded dataset: 0.07407407407407407\n"
     ]
    }
   ],
   "source": [
    "X_train_emb, X_test_emb, y_train_emb, y_test_emb = train_test_split(embedded_data, digits.target, test_size=0.3)\n",
    "kmeans_emb = KMeans(n_clusters=10).fit(X_train_emb)\n",
    "y_pred_emb = kmeans_emb.predict(X_test_emb)\n",
    "print(\"Accuracy of embedded dataset:\",metrics.accuracy_score(y_test_emb, y_pred_emb))"
   ]
  },
  {
   "cell_type": "code",
   "execution_count": 142,
   "metadata": {},
   "outputs": [
    {
     "output_type": "stream",
     "name": "stdout",
     "text": [
      "(784,)\n"
     ]
    }
   ],
   "source": [
    "from keras.datasets import mnist\n",
    "\n",
    "(train_X, train_y), (test_X, test_y) = mnist.load_data()\n",
    "\n",
    "\n",
    "train_X = train_X.reshape(60000, 784)\n",
    "test_X = test_X.reshape(10000, 784)\n",
    "\n",
    "\n",
    "train_X = train_X.astype(\"float32\")\n",
    "test_X = test_X.astype(\"float32\")\n",
    "train_X /= 255\n",
    "test_X /= 255\n"
   ]
  },
  {
   "cell_type": "code",
   "execution_count": 151,
   "metadata": {},
   "outputs": [
    {
     "output_type": "stream",
     "name": "stdout",
     "text": [
      "Accuracy: 0.1409\n"
     ]
    }
   ],
   "source": [
    "kmeans = KMeans(n_clusters=10).fit(train_X)\n",
    "y_pred = kmeans.predict(test_X)\n",
    "print(\"Accuracy:\",metrics.accuracy_score(test_y, y_pred))"
   ]
  },
  {
   "cell_type": "code",
   "execution_count": 9,
   "metadata": {},
   "outputs": [
    {
     "output_type": "stream",
     "name": "stdout",
     "text": [
      "4\n"
     ]
    }
   ],
   "source": [
    "from keras.datasets import mnist, fashion_mnist, cifar100\n",
    "import os\n",
    "from sklearn.model_selection import train_test_split\n",
    "import numpy as np\n",
    "from PIL import Image\n",
    "import skdim\n",
    "\n",
    "(X_train, y_train), (X_test, y_test) = mnist.load_data()\n",
    "\n",
    "# reshape data to be 2D\n",
    "X_train = X_train.reshape(60000, 784)\n",
    "X_test = X_test.reshape(10000, 784)\n",
    "\n",
    "# ensure it's float32\n",
    "X_train = X_train.astype(\"float32\")\n",
    "X_test = X_test.astype(\"float32\")\n",
    "\n",
    "# scale values to be between 0 and 1\n",
    "X_train = X_train / 255.0\n",
    "X_test = X_test / 255.0\n",
    "\n",
    "#danco = skdim.id.DANCo().fit(X_train)\n",
    "\n",
    "id_knn = skdim.id.KNN().fit(X_train[:30000])\n",
    "\n",
    "print(id_knn.dimension_)"
   ]
  },
  {
   "cell_type": "code",
   "execution_count": null,
   "metadata": {},
   "outputs": [],
   "source": []
  }
 ]
}